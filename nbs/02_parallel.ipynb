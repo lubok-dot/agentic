{
 "cells": [
  {
   "cell_type": "markdown",
   "metadata": {},
   "source": [
    "# Branches for parallel node execution\n",
    "\n",
    "The notebook [‘parallelization.ipynb’](https://github.com/langchain-ai/langchain-academy/blob/main/module-4/parallelization.ipynb) from module 4 of the LangGraph course in LangChain Academy indicates that when executing parallel paths of varying lengths, the graph should wait for all parallel steps to complete before advancing to the next step. This behavior is also described in the [example](https://langchain-ai.github.io/langgraph/how-tos/branching/#parallel-node-fan-out-and-fan-in-with-extra-steps) in the How-to-Guide.\n",
    "\n",
    "However, the example below illustrates a different behavior."
   ]
  },
  {
   "cell_type": "code",
   "execution_count": 1,
   "metadata": {},
   "outputs": [],
   "source": [
    "from langgraph.graph import StateGraph, END, START\n",
    "from langgraph.checkpoint.memory import MemorySaver\n",
    "from typing import Annotated, TypedDict\n",
    "from operator import add\n",
    "from IPython.display import Image, display"
   ]
  },
  {
   "cell_type": "code",
   "execution_count": 2,
   "metadata": {},
   "outputs": [],
   "source": [
    "class OverallState(TypedDict):\n",
    "    a: Annotated[list[str], add]\n",
    "    b: Annotated[list[str], add]\n",
    "    c: Annotated[list[str], add]\n",
    "    d: Annotated[list[str], add]\n",
    "    e: Annotated[list[str], add]"
   ]
  },
  {
   "cell_type": "code",
   "execution_count": 3,
   "metadata": {},
   "outputs": [],
   "source": [
    "workflow = StateGraph(OverallState)\n",
    "\n",
    "# add nodes\n",
    "workflow.add_node(\"A\", lambda _:  {'a': [\"I am A\"]})\n",
    "workflow.add_node(\"B\", lambda _:  {'b': [\"I am B\"]})\n",
    "workflow.add_node(\"C\", lambda _:  {'c': [\"I am C\"]})\n",
    "workflow.add_node(\"D\", lambda _: {'d': [\"I am D\"]})\n",
    "workflow.add_node(\"E\", lambda state: {'e': [*state['c'], *state['d']]})\n",
    "\n",
    "# add edges\n",
    "workflow.add_edge(START, 'A')\n",
    "workflow.add_edge('A', 'B')\n",
    "workflow.add_edge('A', 'C')\n",
    "workflow.add_edge('C', 'D')\n",
    "workflow.add_edge('D', 'E')\n",
    "workflow.add_edge('B', 'E')\n",
    "workflow.add_edge('E', END)\n",
    "\n",
    "# compile the graph\n",
    "memory = MemorySaver()\n",
    "graph = workflow.compile(checkpointer=memory)"
   ]
  },
  {
   "cell_type": "code",
   "execution_count": 4,
   "metadata": {},
   "outputs": [
    {
     "data": {
      "image/png": "[encoded data removed]",
      "text/plain": [
       "<IPython.core.display.Image object>"
      ]
     },
     "metadata": {},
     "output_type": "display_data"
    }
   ],
   "source": [
    "display(Image(graph.get_graph().draw_mermaid_png()))"
   ]
  },
  {
   "cell_type": "code",
   "execution_count": 5,
   "metadata": {},
   "outputs": [
    {
     "data": {
      "text/plain": [
       "{'a': ['I am A'],\n",
       " 'b': ['I am B'],\n",
       " 'c': ['I am C'],\n",
       " 'd': ['I am D'],\n",
       " 'e': ['I am C', 'I am C', 'I am D']}"
      ]
     },
     "execution_count": 5,
     "metadata": {},
     "output_type": "execute_result"
    }
   ],
   "source": [
    "config = {'configurable': {'thread_id': 'foo'}}\n",
    "graph.invoke(input={'a': []}, config=config)"
   ]
  },
  {
   "cell_type": "markdown",
   "metadata": {},
   "source": [
    "Expected outcome would have been:\n",
    "\n",
    "```\n",
    "{'a': ['I am A'],\n",
    " 'b': ['I am B'],\n",
    " 'c': ['I am C'],\n",
    " 'd': ['I am D'],\n",
    " 'e': ['I am C', 'I am D']}\n",
    "```"
   ]
  },
  {
   "cell_type": "code",
   "execution_count": 6,
   "metadata": {},
   "outputs": [],
   "source": [
    "state = graph.get_state_history(config)"
   ]
  },
  {
   "cell_type": "code",
   "execution_count": 7,
   "metadata": {},
   "outputs": [
    {
     "data": {
      "text/plain": [
       "[StateSnapshot(values={'a': ['I am A'], 'b': ['I am B'], 'c': ['I am C'], 'd': ['I am D'], 'e': ['I am C', 'I am C', 'I am D']}, next=(), config={'configurable': {'thread_id': 'foo', 'checkpoint_ns': '', 'checkpoint_id': '1efcaec7-f07c-6b50-8004-b2d7949e4800'}}, metadata={'source': 'loop', 'writes': {'E': {'e': ['I am C', 'I am D']}}, 'thread_id': 'foo', 'step': 4, 'parents': {}}, created_at='2025-01-04T22:37:36.408448+00:00', parent_config={'configurable': {'thread_id': 'foo', 'checkpoint_ns': '', 'checkpoint_id': '1efcaec7-f07b-684a-8003-c8fab6f375d3'}}, tasks=()),\n",
       " StateSnapshot(values={'a': ['I am A'], 'b': ['I am B'], 'c': ['I am C'], 'd': ['I am D'], 'e': ['I am C']}, next=('E',), config={'configurable': {'thread_id': 'foo', 'checkpoint_ns': '', 'checkpoint_id': '1efcaec7-f07b-684a-8003-c8fab6f375d3'}}, metadata={'source': 'loop', 'writes': {'D': {'d': ['I am D']}, 'E': {'e': ['I am C']}}, 'thread_id': 'foo', 'step': 3, 'parents': {}}, created_at='2025-01-04T22:37:36.407960+00:00', parent_config={'configurable': {'thread_id': 'foo', 'checkpoint_ns': '', 'checkpoint_id': '1efcaec7-f078-6ce4-8002-911717e861db'}}, tasks=(PregelTask(id='32e384b7-bf66-be75-8d22-be5e804213f9', name='E', path=('__pregel_pull', 'E'), error=None, interrupts=(), state=None, result={'e': ['I am C', 'I am D']}),)),\n",
       " StateSnapshot(values={'a': ['I am A'], 'b': ['I am B'], 'c': ['I am C'], 'd': [], 'e': []}, next=('D', 'E'), config={'configurable': {'thread_id': 'foo', 'checkpoint_ns': '', 'checkpoint_id': '1efcaec7-f078-6ce4-8002-911717e861db'}}, metadata={'source': 'loop', 'writes': {'B': {'b': ['I am B']}, 'C': {'c': ['I am C']}}, 'thread_id': 'foo', 'step': 2, 'parents': {}}, created_at='2025-01-04T22:37:36.406850+00:00', parent_config={'configurable': {'thread_id': 'foo', 'checkpoint_ns': '', 'checkpoint_id': '1efcaec7-f076-6174-8001-95ece4b9028a'}}, tasks=(PregelTask(id='008152d8-9765-03b4-59f7-c8249cfa5ece', name='D', path=('__pregel_pull', 'D'), error=None, interrupts=(), state=None, result={'d': ['I am D']}), PregelTask(id='cacb1ecd-6cd8-91ce-de01-3cebf846df60', name='E', path=('__pregel_pull', 'E'), error=None, interrupts=(), state=None, result={'e': ['I am C']}))),\n",
       " StateSnapshot(values={'a': ['I am A'], 'b': [], 'c': [], 'd': [], 'e': []}, next=('B', 'C'), config={'configurable': {'thread_id': 'foo', 'checkpoint_ns': '', 'checkpoint_id': '1efcaec7-f076-6174-8001-95ece4b9028a'}}, metadata={'source': 'loop', 'writes': {'A': {'a': ['I am A']}}, 'thread_id': 'foo', 'step': 1, 'parents': {}}, created_at='2025-01-04T22:37:36.405739+00:00', parent_config={'configurable': {'thread_id': 'foo', 'checkpoint_ns': '', 'checkpoint_id': '1efcaec7-f074-6388-8000-bafeda914f83'}}, tasks=(PregelTask(id='da6eba48-60e3-bd12-09a1-02880554d4f4', name='B', path=('__pregel_pull', 'B'), error=None, interrupts=(), state=None, result={'b': ['I am B']}), PregelTask(id='0f3c336c-1758-4f66-5414-13156e17b6e6', name='C', path=('__pregel_pull', 'C'), error=None, interrupts=(), state=None, result={'c': ['I am C']}))),\n",
       " StateSnapshot(values={'a': [], 'b': [], 'c': [], 'd': [], 'e': []}, next=('A',), config={'configurable': {'thread_id': 'foo', 'checkpoint_ns': '', 'checkpoint_id': '1efcaec7-f074-6388-8000-bafeda914f83'}}, metadata={'source': 'loop', 'writes': None, 'thread_id': 'foo', 'step': 0, 'parents': {}}, created_at='2025-01-04T22:37:36.404971+00:00', parent_config={'configurable': {'thread_id': 'foo', 'checkpoint_ns': '', 'checkpoint_id': '1efcaec7-f069-6faa-bfff-323693b200f3'}}, tasks=(PregelTask(id='aba5d4bf-bfc3-76ea-8476-e075055c8149', name='A', path=('__pregel_pull', 'A'), error=None, interrupts=(), state=None, result={'a': ['I am A']}),)),\n",
       " StateSnapshot(values={'a': [], 'b': [], 'c': [], 'd': [], 'e': []}, next=('__start__',), config={'configurable': {'thread_id': 'foo', 'checkpoint_ns': '', 'checkpoint_id': '1efcaec7-f069-6faa-bfff-323693b200f3'}}, metadata={'source': 'input', 'writes': {'__start__': {'a': []}}, 'thread_id': 'foo', 'step': -1, 'parents': {}}, created_at='2025-01-04T22:37:36.400778+00:00', parent_config=None, tasks=(PregelTask(id='807bf6a2-e36d-9510-8199-9ff280d7ba3f', name='__start__', path=('__pregel_pull', '__start__'), error=None, interrupts=(), state=None, result={'a': []}),))]"
      ]
     },
     "execution_count": 7,
     "metadata": {},
     "output_type": "execute_result"
    }
   ],
   "source": [
    "list(state)"
   ]
  },
  {
   "cell_type": "markdown",
   "metadata": {},
   "source": [
    "Execution of step ‘E’ is not delayed until the parallel execution of nodes ‘B’, ‘C’, and ‘D’ is fully completed. Instead, ‘E’ is triggered after node ‘B’ finishes and then again after node ‘D’ is executed.\n",
    "\n",
    "Based on the LangGraph course and the How-to-Guide, I expected a different behavior. Could someone clarify what I misunderstood or did incorrectly?"
   ]
  },
  {
   "cell_type": "markdown",
   "metadata": {},
   "source": [
    "# System Info\n",
    "\n",
    "langchain==0.3.8\n",
    "\n",
    "langchain-community==0.3.8\n",
    "\n",
    "langchain-core==0.3.28\n",
    "\n",
    "langchain-fireworks==0.2.6\n",
    "\n",
    "langchain-openai==0.2.9\n",
    "\n",
    "langchain-text-splitters==0.3.2\n",
    "\n",
    "langgraph==0.2.60\n",
    "\n",
    "langgraph-api==0.0.15\n",
    "\n",
    "langgraph-checkpoint==2.0.9\n",
    "\n",
    "langgraph-cli==0.1.65\n",
    "\n",
    "langgraph-sdk==0.1.48\n",
    "\n",
    "langsmith==0.1.145"
   ]
  }
 ],
 "metadata": {
  "kernelspec": {
   "display_name": ".venv",
   "language": "python",
   "name": "python3"
  },
  "language_info": {
   "codemirror_mode": {
    "name": "ipython",
    "version": 3
   },
   "file_extension": ".py",
   "mimetype": "text/x-python",
   "name": "python",
   "nbconvert_exporter": "python",
   "pygments_lexer": "ipython3",
   "version": "3.12.6"
  }
 },
 "nbformat": 4,
 "nbformat_minor": 2
}
