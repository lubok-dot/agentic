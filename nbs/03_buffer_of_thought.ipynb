{
 "cells": [
  {
   "cell_type": "raw",
   "metadata": {},
   "source": [
    "---\n",
    "output-file: buffer_of_thought.html\n",
    "title: Buffer of Thought\n",
    "bibliography: /Users/oliverpfante/Documents/homepage/posts/references.bibtex\n",
    "---"
   ]
  },
  {
   "cell_type": "code",
   "execution_count": 1,
   "metadata": {
    "vscode": {
     "languageId": "python"
    }
   },
   "outputs": [],
   "source": [
    "# | default_exp buffer_of_thought"
   ]
  },
  {
   "cell_type": "markdown",
   "metadata": {},
   "source": [
    "\n",
    "The \"Buffer of Thoughts\" (BoT)[@yang2024bufferthoughtsthoughtaugmentedreasoning] is a framework designed to enhance the **accuracy**, **efficiency**, and **robustness** of Large Language Models (LLMs) in reasoning tasks.\n",
    "\n",
    "## **Key Features of BoT**\n",
    "1. **Long-Term Memory** \n",
    "    BoT introduces a **meta-buffer**, which serves as a kind of long-term memory, persisting across different sessions. This repository stores high-level **thought-templates** distilled from prior problem-solving processes. These templates are retrieved and adapted for diverse tasks, eliminating the need to design reasoning structures anew.\n",
    "2. **Three Components**\n",
    "    - **Problem Distiller**: Responsible for extracting key information and constraints from tasks.\n",
    "    - **Meta-Buffer**: A lightweight memory storing thought-templates, which can span across various categories and domains. While six categories are mentioned in the paper (e.g., text comprehension, mathematical reasoning), the framework is not inherently restricted to this classification or number.\n",
    "    - **Buffer Manager**: Dynamically updates the meta-buffer by distilling new templates as tasks are solved, ensuring the memory evolves with experience.\n",
    "3. **Advantages**\n",
    "    - **Improved Accuracy**: By adapting templates to different tasks, BoT achieves precise and reliable reasoning.\n",
    "    - **Efficiency**: Stored templates allow LLMs to bypass complex multi-query reasoning, streamlining the process.\n",
    "    - **Robustness**: The generalized reasoning framework ensures consistent performance across a variety of tasks.\n",
    "\n",
    "## Notebook Objective\n",
    "- Demonstrates the implementation of BoT using **LangGraph**, highlighting long-term memory capabilities via a `BaseStore` object for persistent storage and retrieval of thought-templates.  \n",
    "- Showcases LangGraph's support for dynamic and adaptive memory, enhancing LLMs' reasoning capabilities within the BoT framework.  "
   ]
  },
  {
   "cell_type": "markdown",
   "metadata": {},
   "source": [
    "![Illustration of the BoT Method. Figure taken from [@yang2024bufferthoughtsthoughtaugmentedreasoning]](bot_agent.png)"
   ]
  },
  {
   "cell_type": "markdown",
   "metadata": {},
   "source": [
    "## Setup"
   ]
  },
  {
   "cell_type": "code",
   "execution_count": 2,
   "metadata": {
    "vscode": {
     "languageId": "python"
    }
   },
   "outputs": [],
   "source": [
    "# | exports\n",
    "\n",
    "from langgraph.graph import StateGraph, END, START, MessagesState\n",
    "from langgraph.checkpoint.memory import MemorySaver\n",
    "from langgraph.store.base import BaseStore\n",
    "from langchain_core.runnables import RunnableConfig\n",
    "from langchain_openai import ChatOpenAI\n",
    "from langgraph.store.memory import InMemoryStore\n",
    "from langchain_core.prompts import PromptTemplate\n",
    "from pydantic import BaseModel, Field\n",
    "from typing import Literal, Optional\n",
    "import textwrap\n",
    "import os\n",
    "from trustcall import create_extractor\n",
    "from pathlib import Path\n",
    "import uuid\n",
    "from langchain.embeddings import init_embeddings\n",
    "from agentic.utils import *"
   ]
  },
  {
   "cell_type": "markdown",
   "metadata": {},
   "source": [
    "## Prompts\n",
    "\n",
    "We start by writing down the relevant prompts for each of the three components. They are copy-pasted from the original publication."
   ]
  },
  {
   "cell_type": "code",
   "execution_count": 3,
   "metadata": {
    "vscode": {
     "languageId": "python"
    }
   },
   "outputs": [],
   "source": [
    "# | exports\n",
    "\n",
    "problem_distiller_prompt = textwrap.dedent(\n",
    "    \"\"\"\n",
    "    ## Problem Distiller\n",
    "\n",
    "    You are a highly professional and intelligent expert in information distillation. Your role is to extract essential information from user input queries to solve problems effectively. You also transform this extracted information into a suitable format based on the type of issue.\n",
    "\n",
    "    ---\n",
    "\n",
    "    ### Task Instructions\n",
    "\n",
    "    1. **Key Information**:\n",
    "    - Extract values and key variables from the user input.\n",
    "    - Ensure all essential information required to solve the problem is provided.\n",
    "    - Hand over this distilled information to the respective expert for task resolution.\n",
    "\n",
    "    2. **Restrictions**:\n",
    "    - Identify the objective of the problem.\n",
    "    - Outline any corresponding constraints that must be adhered to.\n",
    "\n",
    "    3. **Distilled Task**:\n",
    "    - Extend the problem based on the extracted key information and constraints.\n",
    "    - Summarize a meta problem that addresses the user query and accommodates more input and output variations.\n",
    "    - Incorporate the real-world scenario of the extended problem.\n",
    "    - Define types of key variables and information constraints from the original problem to restrict variables in the extended problem.\n",
    "    - Use the input key information from the user query as an example to solve the problem.\n",
    "    \"\"\"\n",
    ").strip()"
   ]
  },
  {
   "cell_type": "markdown",
   "metadata": {},
   "source": [
    "The Instantiate Reasoning step is part of the Meta-Buffer and adapts thought-templates to solve specific tasks. It either instantiates a retrieved template with task-specific reasoning structures or assigns a general template for new tasks, ensuring efficient and accurate problem-solving."
   ]
  },
  {
   "cell_type": "code",
   "execution_count": 4,
   "metadata": {
    "vscode": {
     "languageId": "python"
    }
   },
   "outputs": [],
   "source": [
    "# | exports\n",
    "\n",
    "instantiate_reasoning_prompt = textwrap.dedent(\n",
    "    \"\"\"\n",
    "    ## Meta Reasoner\n",
    "\n",
    "    You are a Meta Reasoner who is extremely knowledgeable in various fields, including Computer Science, Math, Physics, Literature, History, Chemistry, Logical Reasoning, Culture, and Language. You are also skilled in applying high-level reasoning structures for different tasks. \n",
    "\n",
    "    ### Reasoning Structures:\n",
    "\n",
    "    1. **Prompt-based Structure**:\n",
    "    - **Best For**: Common Sense Reasoning, Application Scheduling.\n",
    "    \n",
    "    2. **Procedure-based Structure**:\n",
    "    - **Best For**: Creative tasks like Creative Language Generation, and Text Comprehension.\n",
    "    \n",
    "    3. **Programming-based Structure**:\n",
    "    - **Best For**: Mathematical Reasoning, Code Programming.\n",
    "    - Can transform real-world problems into programming problems to solve efficiently.\n",
    "\n",
    "    ---\n",
    "\n",
    "    ### Reasoning Instantiation\n",
    "\n",
    "    **Your Task:**\n",
    "\n",
    "    1. **Contextual Analysis**: Deliberately consider the context and the problem distilled from the problem distiller. Use your understanding to identify a suitable domain expert for solving the problem.\n",
    "\n",
    "    2. **Structure Selection**: Based on the distilled information, select one of the reasoning structures suitable for addressing the problem.\n",
    "\n",
    "    3. **Template Application**: If a thought-template is provided, directly follow it to instantiate the solution for the given problem.\n",
    "    \"\"\"\n",
    ").strip()"
   ]
  },
  {
   "cell_type": "markdown",
   "metadata": {},
   "source": [
    "The following prompts outline the behavior of the Buffer Manager and the process for creating a new template when no suitable template is found during the Meta-Buffer’s template retrieval step. This process, known as *Template Distillation*, involves two key steps: first, summarizing the task using the distilled task description and the derived solution; second, leveraging this summary to perform a contextual search for in-task and cross-task examples, which are then used as few-shot examples to generate the new template."
   ]
  },
  {
   "cell_type": "code",
   "execution_count": 5,
   "metadata": {
    "vscode": {
     "languageId": "python"
    }
   },
   "outputs": [],
   "source": [
    "# | exports\n",
    "\n",
    "# prompt to infer the core task summary. That one is needed for contextual search for relevant in-task and cross-task templates as few-shot examples for generating the\n",
    "core_task_summarization_prompt = textwrap.dedent(\n",
    "    \"\"\"\n",
    "    ## Prompt for Template Distillation:\n",
    "\n",
    "    **User Input**:\n",
    "    **Problem Description**: {distilled_task}\n",
    "    **Solution Steps or Code**: {solution_steps}\n",
    "\n",
    "    1. **Core task summarization**:\n",
    "        Identify and describe the basic type and core challenges of the problem, such as classifying it as a mathematical problem (e.g., solving a quadratic equation), a data structure problem (e.g., array sorting), an algorithm problem (e.g., search algorithms), etc. And analyze the most efficient way to solve the problem.\n",
    "    \"\"\"\n",
    ").strip()\n",
    "\n",
    "\n",
    "template_distiller_prompt = textwrap.dedent(\n",
    "    \"\"\"\n",
    "    ## Prompt for Template Distillation (continued)\n",
    "\n",
    "    2. **Solution Steps Description**:\n",
    "    Outline the general solution steps, including how to define the problem, determine variables, list key equations or constraints, choose appropriate solving strategies and methods, and how to verify the correctness of the results.\n",
    "\n",
    "    3. **General Answer Template**:\n",
    "    Based on the above analysis, propose a template or approach that can be widely applied to this type of problem, including possible variables, functions, class definitions, etc. If it is a programming problem, provide a set of base classes and interfaces that can be used to construct solutions to specific problems.\n",
    "\n",
    "    Please ensure that your response is highly concise and structured, so that specific solutions can be transformed into generalizable methods.\n",
    "\n",
    "    [Optional] Here are some exemplars of the thought-template:\n",
    "\n",
    "    <in-task-examples>\n",
    "    {in_task_examples}\n",
    "    <in-task-examples>\n",
    "\n",
    "    <cross-task-examples>\n",
    "    {cross_task_examples}\n",
    "    <cross-task-examples>\n",
    "    \"\"\"\n",
    ").strip()"
   ]
  },
  {
   "cell_type": "markdown",
   "metadata": {},
   "source": [
    "Some prompts, provided to the [Trustcall Executors](https://github.com/hinthornw/trustcall) defined in the next section, are used to extract structured output from the plain text responses of the LLM."
   ]
  },
  {
   "cell_type": "code",
   "execution_count": 6,
   "metadata": {
    "vscode": {
     "languageId": "python"
    }
   },
   "outputs": [],
   "source": [
    "# | exports\n",
    "\n",
    "structure_prompt = textwrap.dedent(\n",
    "    \"\"\"\n",
    "    Extract the items of the 'ThoughtTemplate' Pydantic class from the previous conversation.\n",
    "                                    \n",
    "    <convo>\n",
    "    {conversation}\n",
    "    </convo> \n",
    "    \"\"\"\n",
    ").strip()\n",
    "\n",
    "distilled_task_extractor_prompt = textwrap.dedent(\n",
    "    \"\"\"\n",
    "    Extract the content of the 'Extended Problem' subsection within the 'Distilled Task' section from the entire distilled problem description.\n",
    "\n",
    "    <distilled-problem>\n",
    "    {distilled_problem}\n",
    "    <distilled-problem>\n",
    "    \"\"\"\n",
    ").strip()"
   ]
  },
  {
   "cell_type": "markdown",
   "metadata": {},
   "source": [
    "## Templates\n",
    "\n",
    "A Pydantic class is used to digest and extract Thought Templates in the required format. It consists of three sections: a \"Task Description\" which provides a brief overview of the task; a \"Solution Description\" which outlines a high-level approach to solving the task; and finally, the \"Thought Template\" itself, which offers a step-by-step guide for solving the problem."
   ]
  },
  {
   "cell_type": "code",
   "execution_count": 7,
   "metadata": {
    "vscode": {
     "languageId": "python"
    }
   },
   "outputs": [],
   "source": [
    "# | exports\n",
    "\n",
    "\n",
    "class ThoughtTemplate(BaseModel):\n",
    "    \"\"\"Defining the three fields of the Thought Template\"\"\"\n",
    "\n",
    "    task_description: str = Field(description=\"Task Description\")\n",
    "    solution_description: str = Field(description=\"Solution Description\")\n",
    "    thought_template: str = Field(description=\"Thought Template\")"
   ]
  },
  {
   "cell_type": "markdown",
   "metadata": {},
   "source": [
    "## Runnables\n",
    "\n",
    "The [Lang-Chain Runnables](https://python.langchain.com/docs/concepts/runnables/) encapsulating the main logic of the subsequently defined nodes of the graph."
   ]
  },
  {
   "cell_type": "code",
   "execution_count": 8,
   "metadata": {
    "vscode": {
     "languageId": "python"
    }
   },
   "outputs": [],
   "source": [
    "# | exports\n",
    "\n",
    "# Setup Large Language Model (LLM)\n",
    "LLM = ChatOpenAI(\n",
    "    model_name=\"gpt-4o-mini\",\n",
    "    openai_api_key=os.getenv(\"OPENAI_API_KEY\"),\n",
    "    temperature=0.0,\n",
    ")"
   ]
  },
  {
   "cell_type": "code",
   "execution_count": 9,
   "metadata": {
    "vscode": {
     "languageId": "python"
    }
   },
   "outputs": [],
   "source": [
    "# | exports\n",
    "\n",
    "# Define Trustcall instance for sane extraction of the Thought Template items: Task Description, Solution Description, Thought Template\n",
    "structure_template_text = create_extractor(\n",
    "    LLM, tools=[ThoughtTemplate], tool_choice=\"ThoughtTemplate\"\n",
    ")\n",
    "\n",
    "# Extract the distilled task from the distilled problem. Required for the semantic search in the Template retrieval step.\n",
    "distilled_task_extractor = (\n",
    "    PromptTemplate.from_template(\n",
    "        template=distilled_task_extractor_prompt) | LLM\n",
    ")"
   ]
  },
  {
   "cell_type": "markdown",
   "metadata": {},
   "source": [
    "## Long-Term Memory"
   ]
  },
  {
   "cell_type": "markdown",
   "metadata": {},
   "source": [
    "All Thought Templates are stored in a Long-Term Memory to ensure their availability across sessions. The Long-Term Memory supports semantic search on the Task Description of each Thought Template, which plays a crucial role in two steps: first, during template retrieval in the Meta-Buffer, where a relevant template is identified for the problem; and second, during Template Distillation by the Buffer Manager, where it is used to retrieve relevant in-task and cross-task few-shot examples for generating a new template."
   ]
  },
  {
   "cell_type": "code",
   "execution_count": 10,
   "metadata": {
    "vscode": {
     "languageId": "python"
    }
   },
   "outputs": [
    {
     "name": "stderr",
     "output_type": "stream",
     "text": [
      "/var/folders/9y/v7607j0j5vn1tnw1_fjpl4s40000gn/T/ipykernel_57334/1635323190.py:6: LangChainBetaWarning: The function `init_embeddings` is in beta. It is actively being worked on, so the API may change.\n",
      "  \"embed\": init_embeddings(model=\"openai:text-embedding-3-small\"),\n"
     ]
    }
   ],
   "source": [
    "# | exports\n",
    "\n",
    "# Create store with semantic search enabled\n",
    "template_store = InMemoryStore(\n",
    "    index={\n",
    "        \"embed\": init_embeddings(model=\"openai:text-embedding-3-small\"),\n",
    "        \"dims\": 1536,\n",
    "        \"fields\": [\"task_description\"],\n",
    "    }\n",
    ")"
   ]
  },
  {
   "cell_type": "markdown",
   "metadata": {},
   "source": [
    "Optionally, one can populate the Thought Template storage with predefined templates like the six ones listed in the appendix of [@yang2024bufferthoughtsthoughtaugmentedreasoning] or one can also start with a blank template store."
   ]
  },
  {
   "cell_type": "code",
   "execution_count": 11,
   "metadata": {
    "vscode": {
     "languageId": "python"
    }
   },
   "outputs": [],
   "source": [
    "# | exports\n",
    "\n",
    "user_id = \"user_123\"\n",
    "long_term_memory = \"thought_templates\"\n",
    "namespace_for_memory = (user_id, long_term_memory)\n",
    "\n",
    "populate = True\n",
    "# Optional, we populate the memory with some templates\n",
    "if populate:\n",
    "    # Dynamically determine the notebook's directory\n",
    "    notebook_dir = Path(\n",
    "        __file__).parent if \"__file__\" in globals() else Path.cwd()\n",
    "\n",
    "    # Define the path relative to the notebook's directory\n",
    "    template_path = notebook_dir / \"data\" / long_term_memory\n",
    "\n",
    "    # Ensure the directory exists before iterating\n",
    "    if populate and template_path.exists():\n",
    "        for md_fl in template_path.iterdir():\n",
    "            template_name, _ = md_fl.name.split(\".\")\n",
    "            with open(md_fl) as fl:\n",
    "                template_store.put(\n",
    "                    namespace_for_memory, template_name, markdown_to_json(\n",
    "                        fl.read())\n",
    "                )\n",
    "    else:\n",
    "        print(f\"Template path '{template_path}' does not exist.\")"
   ]
  },
  {
   "cell_type": "markdown",
   "metadata": {},
   "source": [
    "## States\n",
    "\n",
    "The state of the LangGraph agent is defined by inheriting from `MessageState`, the default state of LangGraph that stores the message history. Additionally, two more attributes are added, whose values are manipulated during the BoT agent's actions."
   ]
  },
  {
   "cell_type": "code",
   "execution_count": 12,
   "metadata": {
    "vscode": {
     "languageId": "python"
    }
   },
   "outputs": [],
   "source": [
    "# | exports\n",
    "\n",
    "\n",
    "class BoTState(MessagesState):\n",
    "    # thought template possibly extracted from the long-term memory\n",
    "    template_text: Optional[str]\n",
    "    # part of the distilled problem description. Required for similarity computations\n",
    "    distilled_task: str"
   ]
  },
  {
   "cell_type": "markdown",
   "metadata": {},
   "source": [
    "## Nodes\n",
    "\n",
    "Nodes of the LangGraph agent which update the state. Each Node maps onto each step of the BoT agent."
   ]
  },
  {
   "cell_type": "code",
   "execution_count": 13,
   "metadata": {
    "vscode": {
     "languageId": "python"
    }
   },
   "outputs": [],
   "source": [
    "# | exports\n",
    "\n",
    "\n",
    "def problem_distiller(state: BoTState) -> dict:\n",
    "    \"\"\"\n",
    "    Distills task information from the forwarded problem description using a Language Model (LLM).\n",
    "\n",
    "    This function represents the problem distillation step in the Buffer of Thoughts (BoT) framework.\n",
    "    It processes the most recent message, which is the original problem description, in the agent's\n",
    "    state to extract a distilled representation of the task and updates the state with the distilled task.\n",
    "\n",
    "    Parameters\n",
    "    ----------\n",
    "    state : BoTState\n",
    "        The current state of the agent, which contains the message history and other relevant attributes.\n",
    "\n",
    "    Returns\n",
    "    -------\n",
    "    dict\n",
    "        A dictionary with the following keys:\n",
    "        - \"distilled_task\" : str\n",
    "            The distilled task description extracted from the latest message which is the problem description.\n",
    "        - \"messages\" : str\n",
    "            The distilled problem description which contains the distilled task description but also a key information and problem constraints.\n",
    "    \"\"\"\n",
    "    # Invoke the LLM with the problem distiller prompt and the latest message\n",
    "    distilled_task = LLM.invoke(\n",
    "        [problem_distiller_prompt, state[\"messages\"][-1]])\n",
    "\n",
    "    # Extract the distilled task description from the LLM response\n",
    "    return {\n",
    "        \"distilled_task\": distilled_task_extractor.invoke(\n",
    "            distilled_task.content\n",
    "        ).content,\n",
    "        \"messages\": distilled_task,  # Update state with the distilled task message\n",
    "    }"
   ]
  },
  {
   "cell_type": "code",
   "execution_count": 14,
   "metadata": {
    "vscode": {
     "languageId": "python"
    }
   },
   "outputs": [],
   "source": [
    "# | exports\n",
    "\n",
    "def template_retrieval(\n",
    "    state: BoTState, config: RunnableConfig, store: BaseStore\n",
    ") -> dict:\n",
    "    \"\"\"\n",
    "    Retrieves the most relevant thought template for a given task using semantic search.\n",
    "\n",
    "    This function conducts a semantic search between the distilled task and the task descriptions\n",
    "    of thought templates stored in the long-term memory. It selects the template with the highest\n",
    "    similarity score if it exceeds a user-defined threshold. If no suitable template is found, the \n",
    "    template field is left blank.\n",
    "\n",
    "    Parameters\n",
    "    ----------\n",
    "    state : BoTState\n",
    "        The current state of the agent, containing the distilled task and other relevant information.\n",
    "    config : RunnableConfig\n",
    "        Configuration object containing user-defined parameters, including the retrieval threshold.\n",
    "    store : BaseStore\n",
    "        The long-term memory store where thought templates are stored and queried.\n",
    "\n",
    "    Returns\n",
    "    -------\n",
    "    dict\n",
    "        A dictionary with the following key:\n",
    "        - \"template_text\" : str or None\n",
    "            The text of the retrieved thought template if it satisfies the similarity threshold, \n",
    "            otherwise None.\n",
    "    \"\"\"\n",
    "    # Perform semantic search between the distilled task and templates in long-term memory\n",
    "    items = store.search(namespace_for_memory,\n",
    "                         query=state[\"distilled_task\"], limit=1)\n",
    "    template = items.pop() if items else None\n",
    "\n",
    "    # Check if the retrieved template exceeds the similarity threshold\n",
    "    if template and template.score > config[\"configurable\"][\"retrieval_threshold\"]:\n",
    "        template_text = json_to_markdown(\n",
    "            {\n",
    "                key: val\n",
    "                for key, val in template.value.items()\n",
    "                if key != \"task_description\"\n",
    "            }\n",
    "        )\n",
    "        return {\"template_text\": template_text}\n",
    "    else:\n",
    "        return {\"template_text\": None}"
   ]
  },
  {
   "cell_type": "code",
   "execution_count": 15,
   "metadata": {
    "vscode": {
     "languageId": "python"
    }
   },
   "outputs": [],
   "source": [
    "# | exports\n",
    "\n",
    "def instantiate_reasoning(state: BoTState) -> dict:\n",
    "    \"\"\"\n",
    "    Executes the main solution step for the BoT agent by attempting to solve the problem.\n",
    "\n",
    "    This function represents the core reasoning process in the Buffer of Thoughts (BoT) framework.\n",
    "    It uses either a retrieved thought template to guide the solution or, if no template is available, \n",
    "    applies a general solution approach as defined in the prompt.\n",
    "\n",
    "    Parameters\n",
    "    ----------\n",
    "    state : BoTState\n",
    "        The current state of the agent, containing the task description, thought template (if retrieved), \n",
    "        and other relevant information.\n",
    "\n",
    "    Returns\n",
    "    -------\n",
    "    dict\n",
    "        A dictionary with the following key:\n",
    "        - \"messages\" : str\n",
    "            The result of the reasoning step, either guided by the thought template or generated \n",
    "            using a general approach.\n",
    "    \"\"\"\n",
    "    if state[\"template_text\"]:\n",
    "        # Reasoning step guided by the retrieved thought template\n",
    "        return {\n",
    "            \"messages\": LLM.invoke(\n",
    "                [\n",
    "                    state[\"messages\"][-1],\n",
    "                    (\n",
    "                        \"user\",\n",
    "                        instantiate_reasoning_prompt\n",
    "                        + f\"\\n\\n<thought-template>\\n{state['template_text']}\\n<thought-template>\",\n",
    "                    ),\n",
    "                ]\n",
    "            )\n",
    "        }\n",
    "    else:\n",
    "        # Reasoning step using a general solution approach\n",
    "        return {\n",
    "            \"messages\": LLM.invoke(\n",
    "                [state[\"messages\"][-1], (\"user\", instantiate_reasoning_prompt)]\n",
    "            )\n",
    "        }"
   ]
  },
  {
   "cell_type": "code",
   "execution_count": 16,
   "metadata": {
    "vscode": {
     "languageId": "python"
    }
   },
   "outputs": [],
   "source": [
    "# | exports\n",
    "\n",
    "def template_distillation(state: BoTState, config: RunnableConfig, store: BaseStore) -> dict:\n",
    "    \"\"\"\n",
    "    Distills a new thought template when no suitable template is found in the long-term memory.\n",
    "\n",
    "    This function is used when the Buffer of Thoughts (BoT) agent fails to retrieve a proper thought \n",
    "    template. It distills a new template by analyzing the task description and the derived solution. \n",
    "    Relevant in-task and cross-task examples (i.e., similar and diverse thought templates) are retrieved \n",
    "    from the long-term memory to guide the derivation of a new template.\n",
    "\n",
    "    Parameters\n",
    "    ----------\n",
    "    state : BoTState\n",
    "        The current state of the agent, containing the distilled task, derived solution, and other relevant details.\n",
    "    config : RunnableConfig\n",
    "        Configuration object containing user-defined parameters, including thresholds and limits for in-task \n",
    "        and cross-task template retrieval.\n",
    "    store : BaseStore\n",
    "        The long-term memory store where thought templates are stored and queried.\n",
    "\n",
    "    Returns\n",
    "    -------\n",
    "    dict\n",
    "        A dictionary containing:\n",
    "        - \"messages\" : str\n",
    "            The distilled thought template generated by the BoT agent, guided by the retrieved in-task \n",
    "            and cross-task examples.\n",
    "    \"\"\"\n",
    "    # Summarize the core task and solution steps\n",
    "    core_task_summarization_msg = core_task_summarization_prompt.format(\n",
    "        distilled_task=state[\"distilled_task\"],\n",
    "        solution_steps=state[\"messages\"][-1].content,\n",
    "    )\n",
    "    # Generate task summary using LLM\n",
    "    task_summary = LLM.invoke(core_task_summarization_msg)\n",
    "\n",
    "    # Search for relevant thought templates in the long-term memory\n",
    "    items = store.search(\n",
    "        namespace_for_memory,\n",
    "        query=task_summary.content,\n",
    "        limit=config[\"configurable\"][\"limit\"],\n",
    "    )\n",
    "\n",
    "    # Separate templates into in-task and cross-task examples based on their similarity scores\n",
    "    in_task_l = [\n",
    "        template\n",
    "        for template in items\n",
    "        if template.score > config[\"configurable\"][\"in_task_threshold\"]\n",
    "    ]\n",
    "    in_task = in_task_l.pop(0) if in_task_l else None\n",
    "\n",
    "    cross_task_l = [\n",
    "        template\n",
    "        for template in items\n",
    "        if template.score <= config[\"configurable\"][\"in_task_threshold\"]\n",
    "    ]\n",
    "    cross_task = cross_task_l.pop(0) if cross_task_l else None\n",
    "\n",
    "    # Use in-task and cross-task examples to guide the generation of a new thought template\n",
    "    return {\n",
    "        \"messages\": LLM.invoke(\n",
    "            [\n",
    "                (\"user\", core_task_summarization_msg),  # Task summarization\n",
    "                task_summary,  # Task summary message\n",
    "                (\n",
    "                    \"user\",\n",
    "                    template_distiller_prompt.format(\n",
    "                        task_summary=task_summary,\n",
    "                        in_task_examples=json_to_markdown(\n",
    "                            in_task.value if in_task else {}\n",
    "                        ),\n",
    "                        cross_task_examples=json_to_markdown(\n",
    "                            cross_task.value if cross_task else {}\n",
    "                        ),\n",
    "                    ),\n",
    "                ),\n",
    "            ]\n",
    "        )\n",
    "    }"
   ]
  },
  {
   "cell_type": "code",
   "execution_count": 17,
   "metadata": {
    "vscode": {
     "languageId": "python"
    }
   },
   "outputs": [],
   "source": [
    "# | exports\n",
    "\n",
    "def dynamic_meta_buffer_update(\n",
    "    state: BoTState, config: RunnableConfig, store: BaseStore\n",
    ") -> dict:\n",
    "    \"\"\"\n",
    "    Structures the distilled template into predefined sections and stores it in the Long-Term Memory.\n",
    "\n",
    "    This function processes the distilled template by organizing it into three sections: \n",
    "    'Task Description', 'Solution Description', and 'Thought Template', as defined by the Pydantic class. \n",
    "    The structured template is then stored in the Long-Term Memory in JSON format.\n",
    "\n",
    "    Parameters\n",
    "    ----------\n",
    "    state : BoTState\n",
    "        The current state of the agent, containing the distilled template and related data.\n",
    "    config : RunnableConfig\n",
    "        Configuration object with user-defined parameters and metadata for storing the structured template.\n",
    "    store : BaseStore\n",
    "        The long-term memory store where the structured template is saved in JSON format.\n",
    "\n",
    "    Returns\n",
    "    -------\n",
    "    dict\n",
    "        A dictionary containing:\n",
    "        - \"messages\" : str\n",
    "            A message confirming the successful update of the Meta Buffer.\n",
    "    \"\"\"\n",
    "    # Structure the distilled template into defined sections using the structure prompt\n",
    "    result = structure_template_text.invoke(\n",
    "        {\n",
    "            \"messages\": [\n",
    "                structure_prompt.format(\n",
    "                    conversation=state[\"messages\"][-1].content\n",
    "                )\n",
    "            ]\n",
    "        }\n",
    "    )\n",
    "\n",
    "    # Extract the structured response and associated metadata\n",
    "    r, rmeta = result[\"responses\"].pop(), result[\"response_metadata\"].pop()\n",
    "\n",
    "    # Store the structured template in the Long-Term Memory\n",
    "    store.put(\n",
    "        (user_id, long_term_memory),  # Memory namespace and user context\n",
    "        rmeta.get(\"json_doc_id\", str(uuid.uuid4())),  # Unique document ID\n",
    "        r.model_dump(mode=\"json\"),  # Save structured template as JSON\n",
    "    )\n",
    "\n",
    "    # Return confirmation of Meta Buffer update\n",
    "    return {\"messages\": \"Meta Buffer updated\"}"
   ]
  },
  {
   "cell_type": "markdown",
   "metadata": {},
   "source": [
    "## Conditional Edges\n",
    "\n",
    "In case a proper Thought Template was found during the Thought Template Retrieval step, we skip the distillation of a new template."
   ]
  },
  {
   "cell_type": "code",
   "execution_count": 18,
   "metadata": {
    "vscode": {
     "languageId": "python"
    }
   },
   "outputs": [],
   "source": [
    "# | exports\n",
    "\n",
    "def update_required(state: BoTState) -> Literal[\"Buffer Manager\", \"END\"]:\n",
    "    if state[\"template_text\"]:\n",
    "        return \"END\"\n",
    "    else:\n",
    "        return \"Buffer Manager\""
   ]
  },
  {
   "cell_type": "markdown",
   "metadata": {},
   "source": [
    "## Build the Graph\n",
    "\n",
    "The graph representing the BoT agent consists of two sub-graphs: the Meta-Buffer and the Buffer-Manager. The Meta-Buffer handles the Template Retrieval and Reasoning Instantiation steps, while the Buffer-Manager generates a new Thought Template and updates the Long-Term Memory if the Template Retrieval step fails to find a matching template for the problem."
   ]
  },
  {
   "cell_type": "code",
   "execution_count": 19,
   "metadata": {
    "vscode": {
     "languageId": "python"
    }
   },
   "outputs": [
    {
     "data": {
      "text/plain": [
       "<langgraph.graph.state.StateGraph at 0x120bb7fe0>"
      ]
     },
     "execution_count": 19,
     "metadata": {},
     "output_type": "execute_result"
    }
   ],
   "source": [
    "# | exports\n",
    "\n",
    "meta_buffer = StateGraph(BoTState)\n",
    "\n",
    "# add nodes\n",
    "meta_buffer.add_node(\"Template Retrieval\", template_retrieval)\n",
    "meta_buffer.add_node(\"Instantiated Reasoning\", instantiate_reasoning)\n",
    "\n",
    "# add edges\n",
    "meta_buffer.add_edge(START, \"Template Retrieval\")\n",
    "meta_buffer.add_edge(\"Template Retrieval\", \"Instantiated Reasoning\")\n",
    "meta_buffer.add_edge(\"Instantiated Reasoning\", END)"
   ]
  },
  {
   "cell_type": "code",
   "execution_count": 20,
   "metadata": {
    "vscode": {
     "languageId": "python"
    }
   },
   "outputs": [
    {
     "data": {
      "text/plain": [
       "<langgraph.graph.state.StateGraph at 0x120bb7e30>"
      ]
     },
     "execution_count": 20,
     "metadata": {},
     "output_type": "execute_result"
    }
   ],
   "source": [
    "# | exports\n",
    "\n",
    "buffer_manager = StateGraph(BoTState)\n",
    "\n",
    "# add nodes\n",
    "buffer_manager.add_node(\"Template Distillation\", template_distillation)\n",
    "buffer_manager.add_node(\"Dynamic Update\", dynamic_meta_buffer_update)\n",
    "\n",
    "# add edges\n",
    "buffer_manager.add_edge(START, \"Template Distillation\")\n",
    "buffer_manager.add_edge(\"Template Distillation\", \"Dynamic Update\")\n",
    "buffer_manager.add_edge(\"Dynamic Update\", END)"
   ]
  },
  {
   "cell_type": "code",
   "execution_count": 21,
   "metadata": {
    "vscode": {
     "languageId": "python"
    }
   },
   "outputs": [],
   "source": [
    "# | exports\n",
    "\n",
    "memory = MemorySaver()\n",
    "bot_graph = StateGraph(BoTState)\n",
    "\n",
    "# add nodes\n",
    "bot_graph.add_node(\"Problem Distiller\", problem_distiller)\n",
    "bot_graph.add_node(\"Meta Buffer\", meta_buffer.compile(checkpointer=memory))\n",
    "bot_graph.add_node(\n",
    "    \"Buffer Manager\", buffer_manager.compile(checkpointer=memory))\n",
    "\n",
    "# add edges\n",
    "bot_graph.add_edge(START, \"Problem Distiller\")\n",
    "bot_graph.add_edge(\"Problem Distiller\", \"Meta Buffer\")\n",
    "bot_graph.add_conditional_edges(\n",
    "    \"Meta Buffer\", update_required, {\n",
    "        \"Buffer Manager\": \"Buffer Manager\", \"END\": END}\n",
    ")\n",
    "bot_graph.add_edge(\"Buffer Manager\", END)\n",
    "\n",
    "# compile graph\n",
    "bot_agent = bot_graph.compile(checkpointer=memory, store=template_store)"
   ]
  },
  {
   "cell_type": "code",
   "execution_count": 22,
   "metadata": {
    "vscode": {
     "languageId": "python"
    }
   },
   "outputs": [],
   "source": [
    "# | hide\n",
    "from IPython.display import Image, display"
   ]
  },
  {
   "cell_type": "code",
   "execution_count": 23,
   "metadata": {
    "vscode": {
     "languageId": "python"
    }
   },
   "outputs": [
    {
     "data": {
      "image/png": "[encoded data removed]",
      "text/plain": [
       "<IPython.core.display.Image object>"
      ]
     },
     "metadata": {},
     "output_type": "display_data"
    }
   ],
   "source": [
    "# View\n",
    "display(Image(bot_agent.get_graph(xray=1).draw_mermaid_png()))"
   ]
  },
  {
   "cell_type": "markdown",
   "metadata": {},
   "source": [
    "## Run the Agent\n",
    "\n",
    "We run the agent for two different problems. The first one is sampled from the [Game of 24](https://github.com/princeton-nlp/tree-of-thought-llm)[@yao2023treethoughtsdeliberateproblem]. The second one is a word sorting problem which itself is part of the [BIG-Bench Hard (BBH)](https://github.com/google/BIG-bench) dataset."
   ]
  },
  {
   "cell_type": "code",
   "execution_count": 24,
   "metadata": {
    "vscode": {
     "languageId": "python"
    }
   },
   "outputs": [],
   "source": [
    "# | hide\n",
    "\n",
    "from agentic.download_bot_datasets import *"
   ]
  },
  {
   "cell_type": "code",
   "execution_count": 25,
   "metadata": {
    "vscode": {
     "languageId": "python"
    }
   },
   "outputs": [
    {
     "data": {
      "text/plain": [
       "{'24-game': [{'numbers': [1, 1, 3, 10],\n",
       "   'solutions': ['(10-1-1)×3'],\n",
       "   'solvable': True,\n",
       "   'amt': 9.04,\n",
       "   'solved_rate': 0.884,\n",
       "   'mean_time': 9.05,\n",
       "   'std_time': 3.91}],\n",
       " 'word_sorting': [{'input': \"Sort the following words alphabetically: List: hangout drafty supposable sushi proscenium anticonvulsant you'd magnificent scrub embolden hasty pewee carrageen disseminate glamour discovery registrar acuity\",\n",
       "   'target': \"acuity anticonvulsant carrageen discovery disseminate drafty embolden glamour hangout hasty magnificent pewee proscenium registrar scrub supposable sushi you'd\"}]}"
      ]
     },
     "execution_count": 25,
     "metadata": {},
     "output_type": "execute_result"
    }
   ],
   "source": [
    "data = {\"24-game\": sample_from_datasets(1, Path(\"data\"), \"nlile\", \"24-game\")}\n",
    "data[\"word_sorting\"] = sample_from_datasets(\n",
    "    1, Path(\"data\"), \"maveriq/bigbenchhard\", \"word_sorting\"\n",
    ")\n",
    "\n",
    "data"
   ]
  },
  {
   "cell_type": "code",
   "execution_count": 26,
   "metadata": {
    "vscode": {
     "languageId": "python"
    }
   },
   "outputs": [
    {
     "data": {
      "text/plain": [
       "{'24-game': ['\\n    Manipulate four numbers with basic arithmetic operations to reach 24.\\n\\n    <numbers>\\n    [1, 1, 3, 10]\\n    <numbers>\\n    '],\n",
       " 'word_sorting': [\"Sort the following words alphabetically: List: hangout drafty supposable sushi proscenium anticonvulsant you'd magnificent scrub embolden hasty pewee carrageen disseminate glamour discovery registrar acuity\"]}"
      ]
     },
     "execution_count": 26,
     "metadata": {},
     "output_type": "execute_result"
    }
   ],
   "source": [
    "prompts = {}\n",
    "prompts[\"24-game\"] = [\n",
    "    f\"\"\"\n",
    "    Manipulate four numbers with basic arithmetic operations to reach 24.\n",
    "\n",
    "    <numbers>\n",
    "    {rec['numbers']}\n",
    "    <numbers>\n",
    "    \"\"\"\n",
    "    for rec in data[\"24-game\"]\n",
    "]\n",
    "prompts[\"word_sorting\"] = [rec[\"input\"] for rec in data[\"word_sorting\"]]\n",
    "\n",
    "prompts"
   ]
  },
  {
   "cell_type": "code",
   "execution_count": 27,
   "metadata": {
    "vscode": {
     "languageId": "python"
    }
   },
   "outputs": [
    {
     "name": "stdout",
     "output_type": "stream",
     "text": [
      "================================\u001b[1m Human Message \u001b[0m=================================\n",
      "\n",
      "\n",
      "    Manipulate four numbers with basic arithmetic operations to reach 24.\n",
      "\n",
      "    <numbers>\n",
      "    [1, 1, 3, 10]\n",
      "    <numbers>\n",
      "    \n",
      "==================================\u001b[1m Ai Message \u001b[0m==================================\n",
      "\n",
      "### Key Information Extracted:\n",
      "- **Objective**: Manipulate the numbers [1, 1, 3, 10] using basic arithmetic operations (addition, subtraction, multiplication, division) to reach the target number 24.\n",
      "- **Key Variables**: \n",
      "  - Numbers: 1, 1, 3, 10\n",
      "  - Target: 24\n",
      "- **Operations Allowed**: Addition (+), Subtraction (-), Multiplication (*), Division (/)\n",
      "\n",
      "### Constraints:\n",
      "- Use each number exactly once.\n",
      "- Only basic arithmetic operations are allowed.\n",
      "- The result must equal 24.\n",
      "\n",
      "### Distilled Task:\n",
      "- **Extended Problem**: Given a set of four numbers, determine if it is possible to combine them using basic arithmetic operations to achieve a specified target number. This can be generalized to any set of four numbers and any target number.\n",
      "- **Real-World Scenario**: This problem can be applied in various fields such as game design (e.g., number puzzles), educational tools for teaching arithmetic, or algorithm development for solving mathematical challenges.\n",
      "\n",
      "### Types of Key Variables and Information Constraints:\n",
      "- **Key Variables**:\n",
      "  - Set of numbers (e.g., [1, 1, 3, 10])\n",
      "  - Target number (e.g., 24)\n",
      "- **Information Constraints**:\n",
      "  - The number of elements in the set must be exactly four.\n",
      "  - Each number must be used exactly once.\n",
      "  - The operations must be limited to basic arithmetic.\n",
      "\n",
      "### Example Solution:\n",
      "Using the numbers [1, 1, 3, 10], one possible way to reach 24 is:\n",
      "1. Multiply 3 and 10: \\(3 * 10 = 30\\)\n",
      "2. Subtract 1 from 30: \\(30 - 1 = 29\\)\n",
      "3. Subtract the other 1 from 29: \\(29 - 1 = 28\\) (This does not reach 24, so we need to try another combination.)\n",
      "\n",
      "After testing various combinations, it appears that reaching 24 with the given numbers may not be possible. \n",
      "\n",
      "### Summary:\n",
      "The problem is to determine if a combination of the numbers [1, 1, 3, 10] can yield 24 using basic arithmetic operations, with the constraints of using each number exactly once. Further exploration of different sets of numbers and targets can be conducted to generalize the solution.\n",
      "==================================\u001b[1m Ai Message \u001b[0m==================================\n",
      "\n",
      "### Contextual Analysis\n",
      "The problem at hand involves manipulating a set of four numbers ([1, 1, 3, 10]) using basic arithmetic operations to achieve a target number (24). This is a classic problem in mathematical reasoning and combinatorial optimization, often encountered in puzzle games and algorithm challenges. The suitable domain expert for this problem would be a mathematician or a computer scientist with experience in algorithm design and combinatorial problems.\n",
      "\n",
      "### Structure Selection\n",
      "Given the nature of the problem, which involves mathematical reasoning and the exploration of combinations and permutations, the **Programming-based Structure** is the most appropriate choice. This structure allows for the systematic exploration of all possible combinations of the numbers and operations to find a solution.\n",
      "\n",
      "### Template Application\n",
      "Now, I will apply the provided thought-template to instantiate the solution for the given problem.\n",
      "\n",
      "```python\n",
      "from itertools import permutations, product\n",
      "\n",
      "def perform_operation(a, b, operation):\n",
      "    if operation == '+':\n",
      "        return a + b\n",
      "    elif operation == '-':\n",
      "        return a - b\n",
      "    elif operation == '*':\n",
      "        return a * b\n",
      "    elif operation == '/':\n",
      "        if b != 0:\n",
      "            return a / b\n",
      "    raise ValueError(\"Invalid operation or division by zero.\")\n",
      "\n",
      "def evaluate_sequence(sequence, operations):\n",
      "    result = sequence[0]\n",
      "    for i in range(len(operations)):\n",
      "        result = perform_operation(result, sequence[i + 1], operations[i])\n",
      "    return result\n",
      "\n",
      "def generate_combinations(elements, operations):\n",
      "    # Generate all possible combinations of operations\n",
      "    return product(operations, repeat=len(elements) - 1)\n",
      "\n",
      "def format_solution(sequence, operations):\n",
      "    expression = str(sequence[0])\n",
      "    for i in range(len(operations)):\n",
      "        expression += f\" {operations[i]} {sequence[i + 1]}\"\n",
      "    return expression\n",
      "\n",
      "def find_solution(input_elements, target_result):\n",
      "    operations = ['+', '-', '*', '/']\n",
      "    \n",
      "    # Core Algorithm Logic\n",
      "    for sequence in permutations(input_elements):\n",
      "        for operation_combination in generate_combinations(sequence, operations):\n",
      "            try:\n",
      "                if evaluate_sequence(sequence, operation_combination) == target_result:\n",
      "                    # Data Output Formatting\n",
      "                    return format_solution(sequence, operation_combination)\n",
      "            except Exception as e:\n",
      "                # Error Handling\n",
      "                continue\n",
      "    # If no solution is found after all iterations, return a default message.\n",
      "    return \"No solution found.\"\n",
      "\n",
      "# Example usage:\n",
      "input_elements = [1, 1, 3, 10]\n",
      "target_result = 24\n",
      "print(find_solution(input_elements, target_result))\n",
      "```\n",
      "\n",
      "### Explanation of the Code:\n",
      "1. **perform_operation**: This function takes two numbers and an operation as input and performs the specified arithmetic operation.\n",
      "2. **evaluate_sequence**: This function evaluates a sequence of numbers using a given set of operations.\n",
      "3. **generate_combinations**: This function generates all possible combinations of operations for the given numbers.\n",
      "4. **format_solution**: This function formats the resulting expression into a human-readable string.\n",
      "5. **find_solution**: This is the main function that iterates through all permutations of the input numbers and all combinations of operations to find a valid expression that equals the target result.\n",
      "\n",
      "### Conclusion\n",
      "The provided code systematically explores all possible combinations of the numbers and operations to find a solution to the problem of reaching the target number 24. If a solution exists, it will be formatted and returned; otherwise, a message indicating that no solution was found will be returned.\n"
     ]
    }
   ],
   "source": [
    "config = RunnableConfig(\n",
    "    max_concurrency=5,\n",
    "    configurable={\n",
    "        # ensuring a fresh run of the agent each time it is kicked off\n",
    "        \"thread_id\": \"24-game\",\n",
    "        \"retrieval_threshold\": 0.6,\n",
    "        \"in_task_threshold\": 0.8,\n",
    "        \"limit\": 100,\n",
    "    },\n",
    ")\n",
    "\n",
    "# Run the agent by streaming the graph\n",
    "for event in bot_agent.stream(\n",
    "    input={\"messages\": prompts[\"24-game\"][0]}, config=config, stream_mode=\"values\"\n",
    "):\n",
    "    if event[\"messages\"]:\n",
    "        event[\"messages\"][-1].pretty_print()"
   ]
  },
  {
   "cell_type": "markdown",
   "metadata": {},
   "source": [
    "For the Game of 24 problem, the agent retrieves the Coding Thought Template and uses it to derive a Python program as a generic solution (caveat: the solution is printed in Polish notation)."
   ]
  },
  {
   "cell_type": "code",
   "execution_count": 28,
   "metadata": {
    "vscode": {
     "languageId": "python"
    }
   },
   "outputs": [
    {
     "name": "stdout",
     "output_type": "stream",
     "text": [
      "10 - 1 - 1 * 3\n"
     ]
    }
   ],
   "source": [
    "state = bot_agent.get_state(config)\n",
    "code = extract_python_blocks(state.values[\"messages\"][-1].content).pop()\n",
    "exec(code)"
   ]
  },
  {
   "cell_type": "code",
   "execution_count": 29,
   "metadata": {
    "vscode": {
     "languageId": "python"
    }
   },
   "outputs": [
    {
     "name": "stdout",
     "output_type": "stream",
     "text": [
      "================================\u001b[1m Human Message \u001b[0m=================================\n",
      "\n",
      "Sort the following words alphabetically: List: hangout drafty supposable sushi proscenium anticonvulsant you'd magnificent scrub embolden hasty pewee carrageen disseminate glamour discovery registrar acuity\n",
      "==================================\u001b[1m Ai Message \u001b[0m==================================\n",
      "\n",
      "### Key Information Extracted:\n",
      "- **Objective**: Sort a list of words alphabetically.\n",
      "- **Input List**: \n",
      "  - hangout\n",
      "  - drafty\n",
      "  - supposable\n",
      "  - sushi\n",
      "  - proscenium\n",
      "  - anticonvulsant\n",
      "  - you'd\n",
      "  - magnificent\n",
      "  - scrub\n",
      "  - embolden\n",
      "  - hasty\n",
      "  - pewee\n",
      "  - carrageen\n",
      "  - disseminate\n",
      "  - glamour\n",
      "  - discovery\n",
      "  - registrar\n",
      "  - acuity\n",
      "\n",
      "### Constraints:\n",
      "- The sorting must be done in alphabetical order.\n",
      "\n",
      "### Distilled Task:\n",
      "- **Extended Problem**: Create a function that can sort any given list of words alphabetically, accommodating variations in input such as different lengths of lists, mixed case sensitivity, and inclusion of punctuation.\n",
      "- **Real-World Scenario**: This function could be used in applications such as organizing a list of keywords for SEO, sorting names in a contact list, or arranging items in a database.\n",
      "\n",
      "### Key Variables and Information Constraints:\n",
      "- **Key Variables**: \n",
      "  - List of words (string data type)\n",
      "- **Information Constraints**:\n",
      "  - The list can contain any number of words.\n",
      "  - Words may include mixed case (upper and lower).\n",
      "  - The function should handle punctuation if present.\n",
      "\n",
      "### Example to Solve the Problem:\n",
      "Given the input list:\n",
      "- hangout\n",
      "- drafty\n",
      "- supposable\n",
      "- sushi\n",
      "- proscenium\n",
      "- anticonvulsant\n",
      "- you'd\n",
      "- magnificent\n",
      "- scrub\n",
      "- embolden\n",
      "- hasty\n",
      "- pewee\n",
      "- carrageen\n",
      "- disseminate\n",
      "- glamour\n",
      "- discovery\n",
      "- registrar\n",
      "- acuity\n",
      "\n",
      "The sorted output would be:\n",
      "1. acuity\n",
      "2. anticonvulsant\n",
      "3. carrageen\n",
      "4. drafty\n",
      "5. discovery\n",
      "6. disseminate\n",
      "7. embolden\n",
      "8. glamour\n",
      "9. hangout\n",
      "10. hasty\n",
      "11. magnificent\n",
      "12. pewee\n",
      "13. proscenium\n",
      "14. scrub\n",
      "15. sushi\n",
      "16. supposable\n",
      "17. you'd\n",
      "==================================\u001b[1m Ai Message \u001b[0m==================================\n",
      "\n",
      "### 1. Contextual Analysis\n",
      "The problem at hand involves sorting a list of words alphabetically. This task falls under the domain of computer science, specifically in the area of algorithms and data structures. A suitable domain expert for this problem would be a computer scientist or a software engineer, as they possess the skills necessary to implement sorting algorithms and understand the complexities involved in handling string data.\n",
      "\n",
      "### 2. Structure Selection\n",
      "Given that the task is to sort a list of words, which is a straightforward computational problem, the **Programming-based Structure** is the most appropriate choice. This structure allows for the transformation of the real-world problem (sorting words) into a programming problem that can be solved efficiently using code.\n",
      "\n",
      "### 3. Template Application\n",
      "Using the Programming-based Structure, we can outline a solution to the problem of sorting the list of words alphabetically. Below is a Python function that accomplishes this task:\n",
      "\n",
      "```python\n",
      "def sort_words_alphabetically(word_list):\n",
      "    # Sort the list of words in alphabetical order\n",
      "    sorted_list = sorted(word_list, key=str.lower)  # Using str.lower to ensure case-insensitive sorting\n",
      "    return sorted_list\n",
      "\n",
      "# Input list of words\n",
      "words = [\n",
      "    \"hangout\", \"drafty\", \"supposable\", \"sushi\", \"proscenium\",\n",
      "    \"anticonvulsant\", \"you'd\", \"magnificent\", \"scrub\", \"embolden\",\n",
      "    \"hasty\", \"pewee\", \"carrageen\", \"disseminate\", \"glamour\",\n",
      "    \"discovery\", \"registrar\", \"acuity\"\n",
      "]\n",
      "\n",
      "# Call the function and print the sorted list\n",
      "sorted_words = sort_words_alphabetically(words)\n",
      "print(sorted_words)\n",
      "```\n",
      "\n",
      "### Explanation of the Code:\n",
      "- The function `sort_words_alphabetically` takes a list of words as input.\n",
      "- It uses Python's built-in `sorted()` function to sort the list. The `key=str.lower` argument ensures that the sorting is case-insensitive, treating uppercase and lowercase letters equally.\n",
      "- Finally, the sorted list is returned and printed.\n",
      "\n",
      "### Output\n",
      "When the above code is executed, it will produce the following sorted list:\n",
      "```\n",
      "['acuity', 'anticonvulsant', 'carrageen', 'drafty', 'discovery', 'disseminate', 'embolden', 'glamour', 'hangout', 'hasty', 'magnificent', 'pewee', 'proscenium', 'scrub', 'sushi', 'supposable', \"you'd\"]\n",
      "```\n",
      "\n",
      "This solution effectively addresses the problem of sorting the list of words alphabetically, demonstrating the application of programming principles to solve a real-world task.\n",
      "================================\u001b[1m Human Message \u001b[0m=================================\n",
      "\n",
      "Meta Buffer updated\n"
     ]
    }
   ],
   "source": [
    "config[\"configurable\"][\"thread_id\"] = \"word_sorting\"\n",
    "\n",
    "# Run the agent by streaming the graph\n",
    "for event in bot_agent.stream(\n",
    "    input={\"messages\": prompts[\"word_sorting\"][0]}, config=config, stream_mode=\"values\"\n",
    "):\n",
    "    if event[\"messages\"]:\n",
    "        event[\"messages\"][-1].pretty_print()"
   ]
  },
  {
   "cell_type": "markdown",
   "metadata": {},
   "source": [
    "The BoT-Agent generates a new Thought-Template for the Word Sorting problem and updates the Long-Term memory (aka Meta-Buffer)."
   ]
  },
  {
   "cell_type": "code",
   "execution_count": 30,
   "metadata": {
    "vscode": {
     "languageId": "python"
    }
   },
   "outputs": [],
   "source": [
    "# | hide\n",
    "\n",
    "from IPython.display import Markdown, display"
   ]
  },
  {
   "cell_type": "code",
   "execution_count": 31,
   "metadata": {
    "vscode": {
     "languageId": "python"
    }
   },
   "outputs": [
    {
     "data": {
      "text/markdown": [
       "## Task Description\n",
       "Sort a list of words alphabetically in a case-insensitive manner, considering punctuation and handling various input scenarios.\n",
       "\n",
       "## Solution Description\n",
       "Utilize Python's built-in sorted() function with a case-insensitive key. Implement input validation and error handling to ensure robustness. Provide a structured template for sorting, including a base class for extensibility.\n",
       "\n",
       "## Thought Template\n",
       "1. Define the Problem: The task is to sort a list of words alphabetically, considering case insensitivity and potential punctuation. 2. Determine Variables: Input Variable: word_list (a list of strings). Output Variable: sorted_list (the sorted list of strings). 3. List Key Equations or Constraints: Sorting must be case-insensitive: key=str.lower. The function should handle empty lists and lists with varying lengths. 4. Choose Appropriate Solving Strategies and Methods: Utilize Python's built-in sorted() function for efficient sorting. Implement error handling to manage unexpected input types (e.g., non-list inputs). 5. Verify the Correctness of Results: Test the function with various cases, including an empty list, a list with mixed case words, and a list with punctuation. Compare the output against expected sorted results.\n"
      ],
      "text/plain": [
       "<IPython.core.display.Markdown object>"
      ]
     },
     "metadata": {},
     "output_type": "display_data"
    }
   ],
   "source": [
    "keys = list(template_store._data[namespace_for_memory])\n",
    "key = keys.pop() if keys else None\n",
    "if key:\n",
    "    markdown_text = json_to_markdown(\n",
    "        template_store.get(namespace_for_memory, key).value\n",
    "    )\n",
    "    display(Markdown(markdown_text))"
   ]
  },
  {
   "cell_type": "code",
   "execution_count": 32,
   "metadata": {
    "vscode": {
     "languageId": "python"
    }
   },
   "outputs": [],
   "source": [
    "# | hide\n",
    "from nbdev.showdoc import *"
   ]
  },
  {
   "cell_type": "code",
   "execution_count": 33,
   "metadata": {
    "vscode": {
     "languageId": "python"
    }
   },
   "outputs": [],
   "source": [
    "# | hide\n",
    "import nbdev\n",
    "\n",
    "nbdev.nbdev_export()"
   ]
  }
 ],
 "metadata": {
  "kernelspec": {
   "display_name": "python3",
   "language": "python",
   "name": "python3"
  }
 },
 "nbformat": 4,
 "nbformat_minor": 2
}
