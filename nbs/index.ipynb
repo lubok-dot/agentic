{
 "cells": [
  {
   "cell_type": "raw",
   "metadata": {},
   "source": [
    "---\n",
    "description: Sample implementations of agentic research papers\n",
    "output-file: index.html\n",
    "title: agentic\n",
    "---\n",
    "\n"
   ]
  },
  {
   "cell_type": "code",
   "execution_count": null,
   "metadata": {},
   "outputs": [],
   "source": [
    "# | hide\n",
    "from agentic.core import *"
   ]
  },
  {
   "cell_type": "markdown",
   "metadata": {},
   "source": [
    "# Agentic Workflows with LangGraph\n",
    "\n",
    "This repository documents my experiments and learnings with **LangGraph** for implementing agentic workflows. My background in academia instilled in me a habit of understanding research papers by implementing them. As a result, this repository includes several implementations of research papers. These exercises extend beyond agentic workflows to cover various topics in mathematics and machine learning. You can find more examples on my personal [blog](https://lubok-dot.github.io/blog/).  \n",
    "\n",
    "In addition to these implementations, I have also developed several auxiliary functions, primarily for downloading well-known benchmark datasets from various sources.  \n",
    "\n",
    "I chose **nbdev** for development because it automatically generates high-quality documentation. Moreover, it separates code writing from packaging, making it easy to create standalone modules. This feature is particularly useful when deploying agents in [LangGraph Studio](https://studio.langchain.com). You can develop everything within Jupyter notebooks and export Python files that can be uploaded to LangGraph Studio at no cost."
   ]
  },
  {
   "cell_type": "markdown",
   "metadata": {},
   "source": [
    "## Developer Guide"
   ]
  },
  {
   "cell_type": "markdown",
   "metadata": {},
   "source": [
    "If you are new to using `nbdev` here are some useful pointers to get you started."
   ]
  },
  {
   "cell_type": "markdown",
   "metadata": {},
   "source": [
    "### Install agentic in Development mode"
   ]
  },
  {
   "cell_type": "markdown",
   "metadata": {},
   "source": [
    "```sh\n",
    "# make sure agentic package is installed in development mode\n",
    "$ pip install -e .\n",
    "\n",
    "# make changes under nbs/ directory\n",
    "# ...\n",
    "\n",
    "# compile to have changes apply to agentic\n",
    "$ nbdev_prepare\n",
    "```"
   ]
  },
  {
   "cell_type": "markdown",
   "metadata": {},
   "source": [
    "## Usage"
   ]
  },
  {
   "cell_type": "markdown",
   "metadata": {},
   "source": [
    "### Installation"
   ]
  },
  {
   "cell_type": "markdown",
   "metadata": {},
   "source": [
    "Install latest from the GitHub [repository][repo]:\n",
    "\n",
    "```sh\n",
    "$ pip install git+https://github.com/lubok-dot/agentic.git\n",
    "```\n",
    "\n",
    "[repo]: https://github.com/lubok-dot/agentic\n",
    "[docs]: https://lubok-dot.github.io/agentic/\n",
    "[pypi]: https://pypi.org/project/agentic/\n",
    "[conda]: https://anaconda.org/lubok-dot/agentic"
   ]
  },
  {
   "cell_type": "markdown",
   "metadata": {},
   "source": [
    "### Documentation"
   ]
  },
  {
   "cell_type": "markdown",
   "metadata": {},
   "source": [
    "Documentation can be found hosted on this GitHub [repository][repo]'s [pages][docs]. \n",
    "\n",
    "[repo]: https://github.com/lubok-dot/agentic\n",
    "[docs]: https://lubok-dot.github.io/agentic/"
   ]
  }
 ],
 "metadata": {
  "kernelspec": {
   "display_name": "python3",
   "language": "python",
   "name": "python3"
  }
 },
 "nbformat": 4,
 "nbformat_minor": 4
}
