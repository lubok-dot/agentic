{
 "cells": [
  {
   "cell_type": "markdown",
   "metadata": {},
   "source": [
    "# Data Preparation"
   ]
  },
  {
   "cell_type": "code",
   "execution_count": null,
   "metadata": {},
   "outputs": [],
   "source": [
    "# | default_exp utils/data"
   ]
  },
  {
   "cell_type": "markdown",
   "metadata": {},
   "source": [
    "We focus our analysis on two datasets of the critic paper and prepare a script to download them.\n",
    "\n",
    "| **Dataset** | **Tool Used**                         | **Dataset Explanation**                                                                                          |\n",
    "|-------------|--------------------------------------|-------------------------------------------------------------------------------------------------------------------|\n",
    "| **GSM8k**   | Code interpreter for mathematical reasoning | **Purpose:** Mathematical word problem-solving for arithmetic reasoning. <br>**Size:** 8,000 questions. <br>**Download:** Available at [GSM8k GitHub](https://github.com/openai/grade-school-math) repository. |\n",
    "| **AmbigNQ** | Wikipedia search and Google for fact-checking | **Purpose:** Open-domain QA for ambiguous questions with multiple possible answers. <br>**Size:** ~14,042 examples. <br>**Download:** Accessible from [Google NQ dataset page](https://ai.google.com/research/NaturalQuestions). |"
   ]
  },
  {
   "cell_type": "code",
   "execution_count": null,
   "metadata": {},
   "outputs": [],
   "source": [
    "# | export\n",
    "\n",
    "from pathlib import Path\n",
    "import requests\n",
    "import zipfile\n",
    "import io"
   ]
  },
  {
   "cell_type": "code",
   "execution_count": null,
   "metadata": {},
   "outputs": [
    {
     "data": {
      "text/plain": [
       "PosixPath('/Users/oliverpfante/Documents/agentic/nbs/data')"
      ]
     },
     "execution_count": null,
     "metadata": {},
     "output_type": "execute_result"
    }
   ],
   "source": [
    "# | hide\n",
    "\n",
    "path = Path.cwd().parent / \"data\"\n",
    "path"
   ]
  },
  {
   "cell_type": "code",
   "execution_count": null,
   "metadata": {},
   "outputs": [],
   "source": [
    "# | export\n",
    "\n",
    "\n",
    "def download_file(\n",
    "    url: str,\n",
    "    filepath: Path,\n",
    "):\n",
    "    \"\"\"\n",
    "    Download a file from a URL.\n",
    "\n",
    "    Parameters\n",
    "    ----------\n",
    "    url\n",
    "        URL of the file to download.\n",
    "    filepath\n",
    "        Path where the downloaded file will be saved.\n",
    "\n",
    "    Returns\n",
    "    -------\n",
    "    None\n",
    "        This function performs file download but does not return any value.\n",
    "    \"\"\"\n",
    "    if not filepath.exists():\n",
    "        print(f\"Downloading file from {url}...\")\n",
    "        with requests.get(url, stream=True) as r:\n",
    "            r.raise_for_status()\n",
    "            with open(filepath, \"wb\") as f:\n",
    "                for chunk in r.iter_content(chunk_size=8192):\n",
    "                    f.write(chunk)\n",
    "        print(f\"File downloaded and saved to {filepath}.\")\n",
    "    else:\n",
    "        print(f\"File {filepath} already exists. Skipping download.\")"
   ]
  },
  {
   "cell_type": "code",
   "execution_count": null,
   "metadata": {},
   "outputs": [],
   "source": [
    "# | export\n",
    "\n",
    "\n",
    "def download_gsm8k(\n",
    "    path: Path,\n",
    "):\n",
    "    \"\"\"\n",
    "    Download the GSM8k dataset into a specified folder.\n",
    "\n",
    "    Parameters\n",
    "    ----------\n",
    "    path\n",
    "        Directory path where the GSM8k dataset will be saved. If the directory does not exist, it will be created.\n",
    "\n",
    "    Returns\n",
    "    -------\n",
    "    None\n",
    "        This function downloads the dataset and saves it locally but does not return any value.\n",
    "    \"\"\"\n",
    "    # URLs for GSM8k dataset\n",
    "    train_url = \"https://raw.githubusercontent.com/openai/grade-school-math/refs/heads/master/grade_school_math/data/train.jsonl\"\n",
    "    test_url = \"https://raw.githubusercontent.com/openai/grade-school-math/refs/heads/master/grade_school_math/data/test.jsonl\"\n",
    "\n",
    "    # Create directory if it doesn't exist\n",
    "    path.mkdir(parents=True, exist_ok=True)\n",
    "\n",
    "    # Download files\n",
    "    download_file(train_url, path / \"gsm8k_train.jsonl\")\n",
    "    download_file(test_url, path / \"gsm8k_test.jsonl\")"
   ]
  },
  {
   "cell_type": "code",
   "execution_count": null,
   "metadata": {},
   "outputs": [
    {
     "name": "stdout",
     "output_type": "stream",
     "text": [
      "Downloading file from https://raw.githubusercontent.com/openai/grade-school-math/refs/heads/master/grade_school_math/data/train.jsonl...\n",
      "File downloaded and saved to /Users/oliverpfante/Documents/agentic/nbs/data/gsm8k/gsm8k_train.jsonl.\n",
      "Downloading file from https://raw.githubusercontent.com/openai/grade-school-math/refs/heads/master/grade_school_math/data/test.jsonl...\n",
      "File downloaded and saved to /Users/oliverpfante/Documents/agentic/nbs/data/gsm8k/gsm8k_test.jsonl.\n"
     ]
    }
   ],
   "source": [
    "gsm8k_path = path / \"gsm8k\"\n",
    "download_gsm8k(gsm8k_path)"
   ]
  },
  {
   "cell_type": "code",
   "execution_count": null,
   "metadata": {},
   "outputs": [],
   "source": [
    "# | export\n",
    "\n",
    "\n",
    "def download_ambignq(\n",
    "    path: Path,\n",
    "):\n",
    "    \"\"\"\n",
    "    Download the AmbigNQ dataset into a specified folder.\n",
    "\n",
    "    Parameters\n",
    "    ----------\n",
    "    path\n",
    "        Directory path where the AmbigNQ dataset will be saved. If the directory does not exist, it will be created.\n",
    "\n",
    "    Returns\n",
    "    -------\n",
    "    None\n",
    "        This function downloads the dataset, extracts its contents, and saves them locally but does not return any value.\n",
    "    \"\"\"\n",
    "    # URL for AmbigNQ dataset\n",
    "    url = \"https://nlp.cs.washington.edu/ambigqa/data/ambignq_light.zip\"\n",
    "\n",
    "    # Convert path to Path object and create directory if it doesn't exist\n",
    "    path.mkdir(parents=True, exist_ok=True)\n",
    "\n",
    "    # Download the ZIP file\n",
    "    print(f\"Downloading ZIP file from {url}...\")\n",
    "    response = requests.get(url, stream=True)\n",
    "    response.raise_for_status()\n",
    "\n",
    "    # Open the ZIP file in memory and extract its contents\n",
    "    with zipfile.ZipFile(io.BytesIO(response.content)) as zip_file:\n",
    "        print(\"Unpacking ZIP file...\")\n",
    "        zip_file.extractall(path)\n",
    "    print(f\"Unpacked contents to {path}\")"
   ]
  },
  {
   "cell_type": "code",
   "execution_count": null,
   "metadata": {},
   "outputs": [
    {
     "name": "stdout",
     "output_type": "stream",
     "text": [
      "Downloading ZIP file from https://nlp.cs.washington.edu/ambigqa/data/ambignq_light.zip...\n",
      "Unpacking ZIP file...\n",
      "Unpacked contents to /Users/oliverpfante/Documents/agentic/nbs/data/ambignq\n"
     ]
    }
   ],
   "source": [
    "ambignq_path = path / \"ambignq\"\n",
    "download_ambignq(ambignq_path)"
   ]
  }
 ],
 "metadata": {
  "kernelspec": {
   "display_name": "python3",
   "language": "python",
   "name": "python3"
  }
 },
 "nbformat": 4,
 "nbformat_minor": 2
}
