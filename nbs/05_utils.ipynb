{
 "cells": [
  {
   "cell_type": "raw",
   "metadata": {},
   "source": [
    "---\n",
    "output-file: utils.html\n",
    "title: Utility Functions\n",
    "\n",
    "---"
   ]
  },
  {
   "cell_type": "code",
   "execution_count": null,
   "metadata": {},
   "outputs": [],
   "source": [
    "# | default_exp utils"
   ]
  },
  {
   "cell_type": "markdown",
   "metadata": {},
   "source": [
    "This  notebook collects some convenient functions for processing the outputs of the various agents."
   ]
  },
  {
   "cell_type": "code",
   "execution_count": null,
   "metadata": {},
   "outputs": [],
   "source": [
    "# | export\n",
    "\n",
    "import re"
   ]
  },
  {
   "cell_type": "markdown",
   "metadata": {},
   "source": [
    "If an agent produces code, then within a string where the code snippet is encapsulated between triple quotes."
   ]
  },
  {
   "cell_type": "code",
   "execution_count": null,
   "metadata": {},
   "outputs": [],
   "source": [
    "# | export\n",
    "\n",
    "\n",
    "def extract_python_blocks(text: str) -> list[str]:\n",
    "    \"\"\"\n",
    "    Extracts the content between ```python ... ``` blocks from the given string.\n",
    "\n",
    "    Parameters\n",
    "    ----------\n",
    "    text\n",
    "        The input string containing Python code blocks.\n",
    "\n",
    "    Returns\n",
    "    -------\n",
    "    code\n",
    "        A list of strings, each containing the content of a Python code block.\n",
    "\n",
    "    \"\"\"\n",
    "    # Regex to match content between ```python ... ```\n",
    "    pattern = r\"```python\\n(.*?)```\"\n",
    "    # Use re.DOTALL to match across newlines\n",
    "    matches = re.findall(pattern, text, re.DOTALL)\n",
    "    return matches"
   ]
  },
  {
   "cell_type": "code",
   "execution_count": null,
   "metadata": {},
   "outputs": [],
   "source": [
    "# | export\n",
    "\n",
    "\n",
    "def markdown_to_json(markdown_text: str) -> dict:\n",
    "    \"\"\"\n",
    "    Splits a markdown file along its ## headers and organizes content in a dictionary.\n",
    "\n",
    "    Parameters\n",
    "    ----------\n",
    "    markdown_text\n",
    "        The markdown file content as a string.\n",
    "\n",
    "    Returns\n",
    "    -------\n",
    "    json\n",
    "        A dictionary where keys are transformed headers and values are paragraph text.\n",
    "    \"\"\"\n",
    "\n",
    "    # Regular expression to match `##` headers\n",
    "    header_pattern = re.compile(r\"^##\\s*(.+)$\", re.MULTILINE)\n",
    "\n",
    "    # Find all headers and their positions\n",
    "    headers = [\n",
    "        (match.start(), match.group(1))\n",
    "        for match in header_pattern.finditer(markdown_text)\n",
    "    ]\n",
    "\n",
    "    # Dictionary to store the processed headers and content\n",
    "    content_dict = {}\n",
    "\n",
    "    for i, (start_pos, header) in enumerate(headers):\n",
    "        # Determine the start and end of the content for this header\n",
    "        end_pos = headers[i + 1][0] if i + \\\n",
    "            1 < len(headers) else len(markdown_text)\n",
    "\n",
    "        # Extract content for the current header\n",
    "        content = markdown_text[start_pos:end_pos]\n",
    "\n",
    "        # Remove the header itself from the content\n",
    "        content = header_pattern.sub(\"\", content, count=1).strip()\n",
    "\n",
    "        # Transform header: casefold, strip whitespace, and replace spaces with underscores\n",
    "        transformed_header = header.casefold().strip().replace(\" \", \"_\")\n",
    "\n",
    "        # Add the header and its corresponding content to the dictionary\n",
    "        content_dict[transformed_header] = content\n",
    "\n",
    "    return content_dict\n",
    "\n",
    "\n",
    "def json_to_markdown(content_dict: dict) -> str:\n",
    "    \"\"\"\n",
    "    Reconstructs a markdown string from a dictionary where keys are headers\n",
    "    and values are paragraph text.\n",
    "\n",
    "    Parameters\n",
    "    ----------\n",
    "    content_dict\n",
    "        A dictionary with transformed headers as keys and content as values.\n",
    "\n",
    "    Returns\n",
    "    -------\n",
    "    markdown\n",
    "        The reconstructed markdown string.\n",
    "    \"\"\"\n",
    "    markdown_lines = []\n",
    "\n",
    "    for header, content in content_dict.items():\n",
    "        # Transform the key back into a header: replace underscores with spaces, capitalize\n",
    "        original_header = header.replace(\"_\", \" \").title()\n",
    "        # Add the header and its content in markdown format\n",
    "        markdown_lines.append(f\"## {original_header}\")\n",
    "        markdown_lines.append(content)\n",
    "        markdown_lines.append(\"\")  # Add a blank line for spacing\n",
    "\n",
    "    # Join the lines to form the complete markdown text\n",
    "    return \"\\n\".join(markdown_lines)"
   ]
  }
 ],
 "metadata": {
  "kernelspec": {
   "display_name": "python3",
   "language": "python",
   "name": "python3"
  }
 },
 "nbformat": 4,
 "nbformat_minor": 2
}
